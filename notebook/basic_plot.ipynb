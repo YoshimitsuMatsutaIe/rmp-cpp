{
 "cells": [
  {
   "cell_type": "code",
   "execution_count": null,
   "metadata": {},
   "outputs": [],
   "source": [
    "import numpy as np\n",
    "import pandas as pd\n",
    "import matplotlib.pyplot as plt\n",
    "import matplotlib\n",
    "matplotlib.rcParams['savefig.facecolor'] = 'white'"
   ]
  },
  {
   "cell_type": "code",
   "execution_count": null,
   "metadata": {},
   "outputs": [],
   "source": [
    "with open(\"message.txt\") as f:\n",
    "    m = f.read()\n",
    "print(m)"
   ]
  },
  {
   "cell_type": "code",
   "execution_count": null,
   "metadata": {},
   "outputs": [],
   "source": [
    "df = pd.read_csv(\"configration.csv\")\n",
    "fig, axes = plt.subplots(nrows=2, ncols=1, figsize=(8,13), dpi=100)\n",
    "c_dim = len(df.columns) // 2\n",
    "for i in range(c_dim):\n",
    "    axes[0].plot(df[\"t\"], df.iloc[:, i+1], label=\"q\" + str(i))\n",
    "    axes[1].plot(df[\"t\"], df.iloc[:, i+c_dim+1], label=\"dq\" + str(i))\n",
    "for i in range(2):\n",
    "    axes[i].legend()\n",
    "    axes[i].grid()\n",
    "    axes[i].set_xlabel(\"time [s]\")\n",
    "fig.savefig(\"configration.png\")"
   ]
  },
  {
   "cell_type": "code",
   "execution_count": null,
   "metadata": {},
   "outputs": [],
   "source": [
    "df3 = pd.read_csv(\"error.csv\")\n",
    "fig3 = plt.figure(figsize=(10,8))\n",
    "ax = fig3.add_subplot()\n",
    "ax.plot(df3[\"t\"], df3[\"error\"], label=\"error\")\n",
    "ax.legend()\n",
    "ax.grid()"
   ]
  }
 ],
 "metadata": {
  "kernelspec": {
   "display_name": "Python 3.10.4 64-bit",
   "language": "python",
   "name": "python3"
  },
  "language_info": {
   "codemirror_mode": {
    "name": "ipython",
    "version": 3
   },
   "file_extension": ".py",
   "mimetype": "text/x-python",
   "name": "python",
   "nbconvert_exporter": "python",
   "pygments_lexer": "ipython3",
   "version": "3.10.4"
  },
  "orig_nbformat": 4,
  "vscode": {
   "interpreter": {
    "hash": "916dbcbb3f70747c44a77c7bcd40155683ae19c65e1c03b4aa3499c5328201f1"
   }
  }
 },
 "nbformat": 4,
 "nbformat_minor": 2
}
