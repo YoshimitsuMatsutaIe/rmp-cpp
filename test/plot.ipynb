{
 "cells": [
  {
   "cell_type": "code",
   "execution_count": null,
   "metadata": {},
   "outputs": [],
   "source": [
    "import numpy as np\n",
    "import pandas as pd\n",
    "import matplotlib.pyplot as plt"
   ]
  },
  {
   "cell_type": "code",
   "execution_count": null,
   "metadata": {},
   "outputs": [],
   "source": [
    "data = pd.read_csv(\"test.csv\")"
   ]
  },
  {
   "cell_type": "markdown",
   "metadata": {},
   "source": []
  },
  {
   "cell_type": "code",
   "execution_count": null,
   "metadata": {},
   "outputs": [],
   "source": [
    "data"
   ]
  },
  {
   "cell_type": "code",
   "execution_count": null,
   "metadata": {},
   "outputs": [],
   "source": [
    "# data.fillna(0.0)"
   ]
  },
  {
   "cell_type": "code",
   "execution_count": null,
   "metadata": {},
   "outputs": [],
   "source": [
    "fig = plt.figure(figsize=(30,10))\n",
    "ax = fig.add_subplot()\n",
    "ax.plot(data[\"t\"], data[\"x0\"], label=\"x0\")\n",
    "ax.plot(data[\"t\"], data[\"x1\"], label=\"x1\")\n",
    "ax.plot(data[\"t\"], data[\"x2\"], label=\"x2\")\n",
    "ax.plot(data[\"t\"], data[\"x3\"], label=\"x3\")\n",
    "ax.legend()"
   ]
  },
  {
   "cell_type": "code",
   "execution_count": null,
   "metadata": {},
   "outputs": [],
   "source": [
    "data3 = pd.read_csv(\"test3.csv\")\n",
    "fig3 = plt.figure(figsize=(30,10))\n",
    "ax3 = fig3.add_subplot()\n",
    "ax3.plot(data3[\"t\"], data3[\"x0\"], label=\"x0\")\n",
    "ax3.plot(data3[\"t\"], data3[\"x1\"], label=\"x1\")\n",
    "ax3.plot(data3[\"t\"], data3[\"x2\"], label=\"x2\")\n",
    "ax3.plot(data3[\"t\"], data3[\"x3\"], label=\"x3\")\n",
    "ax3.legend()"
   ]
  }
 ],
 "metadata": {
  "interpreter": {
   "hash": "368756e83d2084993ac505becbe47825c8a72b0fc53c20a5043bb5b908d065dc"
  },
  "kernelspec": {
   "display_name": "Python 3.9.7 ('base')",
   "language": "python",
   "name": "python3"
  },
  "language_info": {
   "codemirror_mode": {
    "name": "ipython",
    "version": 3
   },
   "file_extension": ".py",
   "mimetype": "text/x-python",
   "name": "python",
   "nbconvert_exporter": "python",
   "pygments_lexer": "ipython3",
   "version": "3.9.7"
  },
  "orig_nbformat": 4
 },
 "nbformat": 4,
 "nbformat_minor": 2
}
