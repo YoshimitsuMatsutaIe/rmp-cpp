{
 "cells": [
  {
   "cell_type": "code",
   "execution_count": 26,
   "metadata": {},
   "outputs": [],
   "source": [
    "import numpy as np\n",
    "import pandas as pd\n",
    "import matplotlib.pyplot as plt"
   ]
  },
  {
   "cell_type": "code",
   "execution_count": 27,
   "metadata": {},
   "outputs": [],
   "source": [
    "data = pd.read_csv(\"test2.csv\")"
   ]
  },
  {
   "cell_type": "code",
   "execution_count": 28,
   "metadata": {},
   "outputs": [
    {
     "data": {
      "text/html": [
       "<div>\n",
       "<style scoped>\n",
       "    .dataframe tbody tr th:only-of-type {\n",
       "        vertical-align: middle;\n",
       "    }\n",
       "\n",
       "    .dataframe tbody tr th {\n",
       "        vertical-align: top;\n",
       "    }\n",
       "\n",
       "    .dataframe thead th {\n",
       "        text-align: right;\n",
       "    }\n",
       "</style>\n",
       "<table border=\"1\" class=\"dataframe\">\n",
       "  <thead>\n",
       "    <tr style=\"text-align: right;\">\n",
       "      <th></th>\n",
       "      <th>t</th>\n",
       "      <th>x0</th>\n",
       "      <th>x1</th>\n",
       "      <th>x2</th>\n",
       "      <th>x3</th>\n",
       "      <th>dx0</th>\n",
       "      <th>dx1</th>\n",
       "      <th>dx2</th>\n",
       "      <th>dx3</th>\n",
       "    </tr>\n",
       "  </thead>\n",
       "  <tbody>\n",
       "    <tr>\n",
       "      <th>0</th>\n",
       "      <td>0.00</td>\n",
       "      <td>0.000000</td>\n",
       "      <td>0.000000</td>\n",
       "      <td>0.000000</td>\n",
       "      <td>0.000000</td>\n",
       "      <td>0.000000</td>\n",
       "      <td>0.000000</td>\n",
       "      <td>0.000000</td>\n",
       "      <td>0.000000</td>\n",
       "    </tr>\n",
       "    <tr>\n",
       "      <th>1</th>\n",
       "      <td>0.01</td>\n",
       "      <td>0.000000</td>\n",
       "      <td>0.000000</td>\n",
       "      <td>0.000000</td>\n",
       "      <td>0.000000</td>\n",
       "      <td>0.000000</td>\n",
       "      <td>0.000000</td>\n",
       "      <td>0.000000</td>\n",
       "      <td>0.000000</td>\n",
       "    </tr>\n",
       "    <tr>\n",
       "      <th>2</th>\n",
       "      <td>0.02</td>\n",
       "      <td>0.000026</td>\n",
       "      <td>0.000020</td>\n",
       "      <td>0.000013</td>\n",
       "      <td>0.000007</td>\n",
       "      <td>0.002607</td>\n",
       "      <td>0.001956</td>\n",
       "      <td>0.001304</td>\n",
       "      <td>0.000652</td>\n",
       "    </tr>\n",
       "    <tr>\n",
       "      <th>3</th>\n",
       "      <td>0.03</td>\n",
       "      <td>0.000068</td>\n",
       "      <td>0.000051</td>\n",
       "      <td>0.000034</td>\n",
       "      <td>0.000017</td>\n",
       "      <td>0.004212</td>\n",
       "      <td>0.003159</td>\n",
       "      <td>0.002106</td>\n",
       "      <td>0.001053</td>\n",
       "    </tr>\n",
       "    <tr>\n",
       "      <th>4</th>\n",
       "      <td>0.04</td>\n",
       "      <td>0.000120</td>\n",
       "      <td>0.000090</td>\n",
       "      <td>0.000060</td>\n",
       "      <td>0.000030</td>\n",
       "      <td>0.005199</td>\n",
       "      <td>0.003899</td>\n",
       "      <td>0.002599</td>\n",
       "      <td>0.001300</td>\n",
       "    </tr>\n",
       "    <tr>\n",
       "      <th>...</th>\n",
       "      <td>...</td>\n",
       "      <td>...</td>\n",
       "      <td>...</td>\n",
       "      <td>...</td>\n",
       "      <td>...</td>\n",
       "      <td>...</td>\n",
       "      <td>...</td>\n",
       "      <td>...</td>\n",
       "      <td>...</td>\n",
       "    </tr>\n",
       "    <tr>\n",
       "      <th>287996</th>\n",
       "      <td>2879.96</td>\n",
       "      <td>-0.007897</td>\n",
       "      <td>0.059188</td>\n",
       "      <td>0.444894</td>\n",
       "      <td>-1.773940</td>\n",
       "      <td>0.009951</td>\n",
       "      <td>0.006217</td>\n",
       "      <td>-0.000553</td>\n",
       "      <td>-0.005372</td>\n",
       "    </tr>\n",
       "    <tr>\n",
       "      <th>287997</th>\n",
       "      <td>2879.97</td>\n",
       "      <td>-0.007807</td>\n",
       "      <td>0.059243</td>\n",
       "      <td>0.444884</td>\n",
       "      <td>-1.774000</td>\n",
       "      <td>0.008952</td>\n",
       "      <td>0.005500</td>\n",
       "      <td>-0.001003</td>\n",
       "      <td>-0.005696</td>\n",
       "    </tr>\n",
       "    <tr>\n",
       "      <th>287998</th>\n",
       "      <td>2879.98</td>\n",
       "      <td>-0.007706</td>\n",
       "      <td>0.059306</td>\n",
       "      <td>0.444878</td>\n",
       "      <td>-1.774060</td>\n",
       "      <td>0.010138</td>\n",
       "      <td>0.006284</td>\n",
       "      <td>-0.000635</td>\n",
       "      <td>-0.005786</td>\n",
       "    </tr>\n",
       "    <tr>\n",
       "      <th>287999</th>\n",
       "      <td>2879.99</td>\n",
       "      <td>-0.007617</td>\n",
       "      <td>0.059360</td>\n",
       "      <td>0.444866</td>\n",
       "      <td>-1.774120</td>\n",
       "      <td>0.008922</td>\n",
       "      <td>0.005418</td>\n",
       "      <td>-0.001165</td>\n",
       "      <td>-0.006131</td>\n",
       "    </tr>\n",
       "    <tr>\n",
       "      <th>288000</th>\n",
       "      <td>2880.00</td>\n",
       "      <td>-0.007513</td>\n",
       "      <td>0.059424</td>\n",
       "      <td>0.444859</td>\n",
       "      <td>-1.774180</td>\n",
       "      <td>0.010354</td>\n",
       "      <td>0.006371</td>\n",
       "      <td>-0.000704</td>\n",
       "      <td>-0.006194</td>\n",
       "    </tr>\n",
       "  </tbody>\n",
       "</table>\n",
       "<p>288001 rows × 9 columns</p>\n",
       "</div>"
      ],
      "text/plain": [
       "              t        x0        x1        x2        x3       dx0       dx1  \\\n",
       "0          0.00  0.000000  0.000000  0.000000  0.000000  0.000000  0.000000   \n",
       "1          0.01  0.000000  0.000000  0.000000  0.000000  0.000000  0.000000   \n",
       "2          0.02  0.000026  0.000020  0.000013  0.000007  0.002607  0.001956   \n",
       "3          0.03  0.000068  0.000051  0.000034  0.000017  0.004212  0.003159   \n",
       "4          0.04  0.000120  0.000090  0.000060  0.000030  0.005199  0.003899   \n",
       "...         ...       ...       ...       ...       ...       ...       ...   \n",
       "287996  2879.96 -0.007897  0.059188  0.444894 -1.773940  0.009951  0.006217   \n",
       "287997  2879.97 -0.007807  0.059243  0.444884 -1.774000  0.008952  0.005500   \n",
       "287998  2879.98 -0.007706  0.059306  0.444878 -1.774060  0.010138  0.006284   \n",
       "287999  2879.99 -0.007617  0.059360  0.444866 -1.774120  0.008922  0.005418   \n",
       "288000  2880.00 -0.007513  0.059424  0.444859 -1.774180  0.010354  0.006371   \n",
       "\n",
       "             dx2       dx3  \n",
       "0       0.000000  0.000000  \n",
       "1       0.000000  0.000000  \n",
       "2       0.001304  0.000652  \n",
       "3       0.002106  0.001053  \n",
       "4       0.002599  0.001300  \n",
       "...          ...       ...  \n",
       "287996 -0.000553 -0.005372  \n",
       "287997 -0.001003 -0.005696  \n",
       "287998 -0.000635 -0.005786  \n",
       "287999 -0.001165 -0.006131  \n",
       "288000 -0.000704 -0.006194  \n",
       "\n",
       "[288001 rows x 9 columns]"
      ]
     },
     "execution_count": 28,
     "metadata": {},
     "output_type": "execute_result"
    }
   ],
   "source": [
    "data"
   ]
  },
  {
   "cell_type": "code",
   "execution_count": 29,
   "metadata": {},
   "outputs": [],
   "source": [
    "# data.fillna(0.0)"
   ]
  },
  {
   "cell_type": "code",
   "execution_count": 30,
   "metadata": {},
   "outputs": [
    {
     "data": {
      "text/plain": [
       "[<matplotlib.lines.Line2D at 0x7f7052496370>]"
      ]
     },
     "execution_count": 30,
     "metadata": {},
     "output_type": "execute_result"
    },
    {
     "data": {
      "image/png": "[encoded data removed]",
      "text/plain": [
       "<Figure size 432x288 with 1 Axes>"
      ]
     },
     "metadata": {
      "needs_background": "light"
     },
     "output_type": "display_data"
    }
   ],
   "source": [
    "plt.plot(data[\"t\"], data[\"x0\"])"
   ]
  }
 ],
 "metadata": {
  "interpreter": {
   "hash": "368756e83d2084993ac505becbe47825c8a72b0fc53c20a5043bb5b908d065dc"
  },
  "kernelspec": {
   "display_name": "Python 3.9.7 ('base')",
   "language": "python",
   "name": "python3"
  },
  "language_info": {
   "codemirror_mode": {
    "name": "ipython",
    "version": 3
   },
   "file_extension": ".py",
   "mimetype": "text/x-python",
   "name": "python",
   "nbconvert_exporter": "python",
   "pygments_lexer": "ipython3",
   "version": "3.9.7"
  },
  "orig_nbformat": 4
 },
 "nbformat": 4,
 "nbformat_minor": 2
}
