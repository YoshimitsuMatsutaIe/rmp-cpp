{
 "cells": [
  {
   "cell_type": "code",
   "execution_count": null,
   "metadata": {},
   "outputs": [],
   "source": [
    "import numpy as np\n",
    "import pandas as pd\n",
    "import matplotlib.pyplot as plt\n",
    "import matplotlib\n",
    "matplotlib.rcParams['savefig.facecolor'] = 'white'"
   ]
  },
  {
   "cell_type": "code",
   "execution_count": null,
   "metadata": {},
   "outputs": [],
   "source": [
    "\n",
    "df = pd.read_csv(\"configration.csv\")\n",
    "fig, axes = plt.subplots(nrows=2, ncols=1, figsize=(8,13))\n",
    "c_dim = len(df.columns) // 2\n",
    "for i in range(c_dim):\n",
    "    axes[0].plot(df[\"t\"], df.iloc[:, i+1], label=\"q\" + str(i))\n",
    "    axes[1].plot(df[\"t\"], df.iloc[:, i+c_dim+1], label=\"dq\" + str(i))\n",
    "for i in range(2):\n",
    "    axes[i].legend()\n",
    "    axes[i].grid()\n",
    "    axes[i].set_xlabel(\"time [s]\")\n",
    "fig.savefig(\"configration.png\")"
   ]
  },
  {
   "cell_type": "code",
   "execution_count": null,
   "metadata": {},
   "outputs": [],
   "source": [
    "df.iloc[:, 1]"
   ]
  },
  {
   "cell_type": "code",
   "execution_count": null,
   "metadata": {},
   "outputs": [],
   "source": [
    "df3 = pd.read_csv(\"error.csv\")\n",
    "fig3 = plt.figure(figsize=(10,8))\n",
    "ax = fig3.add_subplot()\n",
    "ax.plot(df3[\"t\"], df3[\"error\"], label=\"error\")\n",
    "ax.legend()\n",
    "ax.grid()"
   ]
  }
 ],
 "metadata": {
  "kernelspec": {
   "display_name": "Python 3.9.12 ('base')",
   "language": "python",
   "name": "python3"
  },
  "language_info": {
   "codemirror_mode": {
    "name": "ipython",
    "version": 3
   },
   "file_extension": ".py",
   "mimetype": "text/x-python",
   "name": "python",
   "nbconvert_exporter": "python",
   "pygments_lexer": "ipython3",
   "version": "3.9.12"
  },
  "orig_nbformat": 4,
  "vscode": {
   "interpreter": {
    "hash": "54305d52ad11c12c25e9b79398ec7b323688e16ddae45879ca278e9d9f351ef6"
   }
  }
 },
 "nbformat": 4,
 "nbformat_minor": 2
}
