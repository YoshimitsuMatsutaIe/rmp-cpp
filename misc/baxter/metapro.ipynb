{
 "cells": [
  {
   "cell_type": "code",
   "execution_count": 1,
   "metadata": {},
   "outputs": [],
   "source": [
    "names = [\"W0\", \"BR\"] + [str(i) for i in range(7)] + [\"ee\"]\n",
    "expr_name = [\n",
    "    [\"o_\" + n for n in names],\n",
    "    [\"rx_\" + n for n in names],\n",
    "    [\"ry_\" + n for n in names],\n",
    "    [\"rz_\" + n for n in names],\n",
    "    [\"jo_\" + n for n in names],\n",
    "    [\"jrx_\" + n for n in names],\n",
    "    [\"jry_\" + n for n in names],\n",
    "    [\"jrz_\" + n for n in names],\n",
    "    [\"jo_\" + n + \"_dot\" for n in names],\n",
    "    [\"jrx_\" + n + \"_dot\" for n in names],\n",
    "    [\"jry_\" + n + \"_dot\" for n in names],\n",
    "    [\"jrz_\" + n + \"_dot\" for n in names],\n",
    "]"
   ]
  },
  {
   "cell_type": "code",
   "execution_count": 2,
   "metadata": {},
   "outputs": [],
   "source": [
    "with open(\"hpp.txt\", \"w\") as f:\n",
    "    for ns in expr_name:\n",
    "        for n in ns:\n",
    "            f.write(\"#include \\\"\" + n + \".hpp\\\"\\n\")"
   ]
  },
  {
   "cell_type": "code",
   "execution_count": 4,
   "metadata": {},
   "outputs": [],
   "source": [
    "with open(\"void.txt\", \"w\") as f:\n",
    "    for ns in expr_name[0:4]:\n",
    "        for n in ns:\n",
    "            f.write(\"void \" + n + \"(const VectorXd& q, double L, double h, double H, double L0, double L1, double L2, double L3, double L4, double L5, double L6, VectorXd& out);\\n\")\n",
    "    for ns in expr_name[4:8]:\n",
    "        for n in ns:\n",
    "            f.write(\"void \" + n + \"(const VectorXd& q, double L, double h, double H, double L0, double L1, double L2, double L3, double L4, double L5, double L6, MatrixXd& out);\\n\")\n",
    "    for ns in expr_name[8:12]:\n",
    "        for n in ns:\n",
    "            f.write(\"void \" + n + \"(const VectorXd& q, const VectorXd& q_dot, double L, double h, double H, double L0, double L1, double L2, double L3, double L4, double L5, double L6, MatrixXd& out);\\n\")"
   ]
  }
 ],
 "metadata": {
  "interpreter": {
   "hash": "368756e83d2084993ac505becbe47825c8a72b0fc53c20a5043bb5b908d065dc"
  },
  "kernelspec": {
   "display_name": "Python 3.9.7 ('base')",
   "language": "python",
   "name": "python3"
  },
  "language_info": {
   "codemirror_mode": {
    "name": "ipython",
    "version": 3
   },
   "file_extension": ".py",
   "mimetype": "text/x-python",
   "name": "python",
   "nbconvert_exporter": "python",
   "pygments_lexer": "ipython3",
   "version": "3.9.7"
  },
  "orig_nbformat": 4
 },
 "nbformat": 4,
 "nbformat_minor": 2
}
