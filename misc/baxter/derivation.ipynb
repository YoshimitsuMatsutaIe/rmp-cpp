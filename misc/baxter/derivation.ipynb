{
 "cells": [
  {
   "cell_type": "markdown",
   "metadata": {},
   "source": [
    "baxterのmap求める"
   ]
  },
  {
   "cell_type": "code",
   "execution_count": 11,
   "metadata": {},
   "outputs": [],
   "source": [
    "import sympy as sy\n",
    "from sympy import sin, cos, pi, sqrt"
   ]
  },
  {
   "cell_type": "code",
   "execution_count": 12,
   "metadata": {},
   "outputs": [],
   "source": [
    "q = sy.Matrix(sy.MatrixSymbol('q', 7, 1))\n",
    "L, h, H, L0, L1, L2, L3, L4, L5, L6, R = sy.symbols('L, h, H, L0, L1, L2, L3, L4, L5, L6, R')\n",
    "\n",
    "def HTM(alpha, a, d, theta):\n",
    "    return sy.Matrix([\n",
    "        [cos(theta), -sin(theta), 0, a],\n",
    "        [sin(theta)*cos(alpha), cos(theta)*cos(alpha), -sin(alpha), -d*sin(alpha)],\n",
    "        [sin(theta)*sin(alpha), cos(theta)*sin(alpha), cos(alpha), d*cos(alpha)],\n",
    "        [0, 0, 0, 1],\n",
    "    ])\n",
    "\n",
    "\n",
    "\n",
    "DHparams = (\n",
    "    (0, 0, 0, q[0, 0]),\n",
    "    (-pi/2, L1, 0, q[1, 0]+pi/2),\n",
    "    (pi/2, 0, L2, q[2, 0]),\n",
    "    (-pi/2, L3, 0, q[3, 0]),\n",
    "    (pi/2, 0, L4, q[4, 0]),\n",
    "    (-pi/2, L5, 0, q[5, 0]),\n",
    "    (pi/2, 0, 0, q[6, 0]),\n",
    ")\n",
    "\n",
    "\n",
    "T_RL_W0 = sy.Matrix([\n",
    "    [-sqrt(2)/2, sqrt(2)/2, 0, -L,],\n",
    "    [-sqrt(2)/2, -sqrt(2)/2, 0, -h,],\n",
    "    [0, 0, 1, H,],\n",
    "    [0, 0, 0, 1,],\n",
    "])\n",
    "\n",
    "T_0_RL = sy.Matrix([\n",
    "    [1, 0, 0, 0,],\n",
    "    [0, 1, 0, 0,],\n",
    "    [0, 0, 1, L0,],\n",
    "    [0, 0, 0, 1,],\n",
    "])\n",
    "\n",
    "Ts = [HTM(*dhparam) for dhparam in DHparams]\n",
    "\n",
    "T_GR_7 = sy.Matrix([\n",
    "    [1, 0, 0, 0,],\n",
    "    [0, 1, 0, 0,],\n",
    "    [0, 0, 1, L6,],\n",
    "    [0, 0, 0, 1,],\n",
    "])\n",
    "\n",
    "\n",
    "### 変換前一覧 ###\n",
    "T_all = [T_RL_W0, T_0_RL]\n",
    "T_all += Ts\n",
    "T_all.append(T_GR_7)\n",
    "\n",
    "\n",
    "### 変換後 ###\n",
    "for i, T in enumerate(T_all):\n",
    "    if i == 0:\n",
    "        T_abs = [T]\n",
    "    else:\n",
    "        T_abs.append(T_abs[i-1] @ T)\n",
    "\n",
    "\n",
    "os = [T[0:3, 3:4] for T in T_abs]\n",
    "Rxs = [T[0:3, 0:1] for T in T_abs]\n",
    "Rys = [T[0:3, 1:2] for T in T_abs]\n",
    "Rzs = [T[0:3, 2:3] for T in T_abs]\n",
    "\n",
    "\n",
    "Jos = [o.jacobian(q) for o in os]\n",
    "JRxs = [r.jacobian(q) for r in Rxs]\n",
    "JRys = [r.jacobian(q) for r in Rys]\n",
    "JRzs = [r.jacobian(q) for r in Rzs]"
   ]
  },
  {
   "cell_type": "markdown",
   "metadata": {},
   "source": []
  }
 ],
 "metadata": {
  "interpreter": {
   "hash": "916dbcbb3f70747c44a77c7bcd40155683ae19c65e1c03b4aa3499c5328201f1"
  },
  "kernelspec": {
   "display_name": "Python 3.8.10 64-bit",
   "language": "python",
   "name": "python3"
  },
  "language_info": {
   "codemirror_mode": {
    "name": "ipython",
    "version": 3
   },
   "file_extension": ".py",
   "mimetype": "text/x-python",
   "name": "python",
   "nbconvert_exporter": "python",
   "pygments_lexer": "ipython3",
   "version": "3.8.10"
  },
  "orig_nbformat": 4
 },
 "nbformat": 4,
 "nbformat_minor": 2
}
