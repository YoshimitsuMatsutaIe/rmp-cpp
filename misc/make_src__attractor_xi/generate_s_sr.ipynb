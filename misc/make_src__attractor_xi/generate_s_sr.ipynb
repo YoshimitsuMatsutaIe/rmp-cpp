{
 "cells": [
  {
   "cell_type": "code",
   "execution_count": 71,
   "metadata": {},
   "outputs": [],
   "source": [
    "import sympy as sy\n",
    "from sympy.utilities.codegen import codegen\n",
    "\n",
    "import os\n",
    "from pathlib import Path\n"
   ]
  },
  {
   "cell_type": "code",
   "execution_count": 72,
   "metadata": {},
   "outputs": [
    {
     "data": {
      "text/latex": [
       "$\\displaystyle \\sqrt{x_{0, 0}^{2} + x_{1, 0}^{2}}$"
      ],
      "text/plain": [
       "sqrt(x[0, 0]**2 + x[1, 0]**2)"
      ]
     },
     "execution_count": 72,
     "metadata": {},
     "output_type": "execute_result"
    }
   ],
   "source": [
    "N = 2  #次元\n",
    "\n",
    "x = sy.Matrix(sy.MatrixSymbol('x', N, 1))\n",
    "x_dot = sy.Matrix(sy.MatrixSymbol('x_dot', N, 1))\n",
    "\n",
    "\n",
    "#x_norm = x.norm(ord=2)\n",
    "x_norm = 0\n",
    "for i in range(N):\n",
    "    x_norm += x[i, 0]**2\n",
    "x_norm = sy.sqrt(x_norm)# ** (1/2)\n",
    "x_hat = x / x_norm\n",
    "\n",
    "x_norm"
   ]
  },
  {
   "cell_type": "code",
   "execution_count": 73,
   "metadata": {},
   "outputs": [
    {
     "data": {
      "text/latex": [
       "$\\displaystyle \\left[\\begin{array}{c}x_{0, 0}\\\\x_{1, 0}\\end{array}\\right]$"
      ],
      "text/plain": [
       "Matrix([\n",
       "[x[0, 0]],\n",
       "[x[1, 0]]])"
      ]
     },
     "execution_count": 73,
     "metadata": {},
     "output_type": "execute_result"
    }
   ],
   "source": [
    "x"
   ]
  },
  {
   "cell_type": "code",
   "execution_count": 74,
   "metadata": {},
   "outputs": [
    {
     "data": {
      "text/latex": [
       "$\\displaystyle \\left[\\begin{matrix}\\frac{\\left(w_{l} \\left(1 - e^{- \\frac{x_{0, 0}^{2} + x_{1, 0}^{2}}{2 \\sigma_{\\gamma}^{2}}}\\right) + w_{u} e^{- \\frac{x_{0, 0}^{2} + x_{1, 0}^{2}}{2 \\sigma_{\\gamma}^{2}}}\\right) \\left(\\left(1 - e^{2 \\alpha \\sqrt{x_{0, 0}^{2} + x_{1, 0}^{2}}}\\right)^{2} \\left(1 - e^{- \\frac{x_{0, 0}^{2} + x_{1, 0}^{2}}{2 \\sigma_{\\alpha}^{2}}}\\right) x_{0, 0}^{2} + \\left(\\epsilon + e^{- \\frac{x_{0, 0}^{2} + x_{1, 0}^{2}}{2 \\sigma_{\\alpha}^{2}}}\\right) \\left(e^{2 \\alpha \\sqrt{x_{0, 0}^{2} + x_{1, 0}^{2}}} + 1\\right)^{2} \\left(x_{0, 0}^{2} + x_{1, 0}^{2}\\right)\\right)}{\\left(e^{2 \\alpha \\sqrt{x_{0, 0}^{2} + x_{1, 0}^{2}}} + 1\\right)^{2} \\left(x_{0, 0}^{2} + x_{1, 0}^{2}\\right)} & \\frac{\\left(1 - e^{- \\frac{x_{0, 0}^{2} + x_{1, 0}^{2}}{2 \\sigma_{\\alpha}^{2}}}\\right) \\left(w_{l} \\left(1 - e^{- \\frac{x_{0, 0}^{2} + x_{1, 0}^{2}}{2 \\sigma_{\\gamma}^{2}}}\\right) + w_{u} e^{- \\frac{x_{0, 0}^{2} + x_{1, 0}^{2}}{2 \\sigma_{\\gamma}^{2}}}\\right) \\tanh^{2}{\\left(\\alpha \\sqrt{x_{0, 0}^{2} + x_{1, 0}^{2}} \\right)} x_{0, 0} x_{1, 0}}{x_{0, 0}^{2} + x_{1, 0}^{2}}\\\\\\frac{\\left(1 - e^{- \\frac{x_{0, 0}^{2} + x_{1, 0}^{2}}{2 \\sigma_{\\alpha}^{2}}}\\right) \\left(w_{l} \\left(1 - e^{- \\frac{x_{0, 0}^{2} + x_{1, 0}^{2}}{2 \\sigma_{\\gamma}^{2}}}\\right) + w_{u} e^{- \\frac{x_{0, 0}^{2} + x_{1, 0}^{2}}{2 \\sigma_{\\gamma}^{2}}}\\right) \\tanh^{2}{\\left(\\alpha \\sqrt{x_{0, 0}^{2} + x_{1, 0}^{2}} \\right)} x_{0, 0} x_{1, 0}}{x_{0, 0}^{2} + x_{1, 0}^{2}} & \\frac{\\left(w_{l} \\left(1 - e^{- \\frac{x_{0, 0}^{2} + x_{1, 0}^{2}}{2 \\sigma_{\\gamma}^{2}}}\\right) + w_{u} e^{- \\frac{x_{0, 0}^{2} + x_{1, 0}^{2}}{2 \\sigma_{\\gamma}^{2}}}\\right) \\left(\\left(1 - e^{2 \\alpha \\sqrt{x_{0, 0}^{2} + x_{1, 0}^{2}}}\\right)^{2} \\left(1 - e^{- \\frac{x_{0, 0}^{2} + x_{1, 0}^{2}}{2 \\sigma_{\\alpha}^{2}}}\\right) x_{1, 0}^{2} + \\left(\\epsilon + e^{- \\frac{x_{0, 0}^{2} + x_{1, 0}^{2}}{2 \\sigma_{\\alpha}^{2}}}\\right) \\left(e^{2 \\alpha \\sqrt{x_{0, 0}^{2} + x_{1, 0}^{2}}} + 1\\right)^{2} \\left(x_{0, 0}^{2} + x_{1, 0}^{2}\\right)\\right)}{\\left(e^{2 \\alpha \\sqrt{x_{0, 0}^{2} + x_{1, 0}^{2}}} + 1\\right)^{2} \\left(x_{0, 0}^{2} + x_{1, 0}^{2}\\right)}\\end{matrix}\\right]$"
      ],
      "text/plain": [
       "Matrix([\n",
       "[(w_l*(1 - exp(-(x[0, 0]**2 + x[1, 0]**2)/(2*sigma_gamma**2))) + w_u*exp(-(x[0, 0]**2 + x[1, 0]**2)/(2*sigma_gamma**2)))*((1 - exp(2*alpha*sqrt(x[0, 0]**2 + x[1, 0]**2)))**2*(1 - exp(-(x[0, 0]**2 + x[1, 0]**2)/(2*sigma_alpha**2)))*x[0, 0]**2 + (epsilon + exp(-(x[0, 0]**2 + x[1, 0]**2)/(2*sigma_alpha**2)))*(exp(2*alpha*sqrt(x[0, 0]**2 + x[1, 0]**2)) + 1)**2*(x[0, 0]**2 + x[1, 0]**2))/((exp(2*alpha*sqrt(x[0, 0]**2 + x[1, 0]**2)) + 1)**2*(x[0, 0]**2 + x[1, 0]**2)),                                                                                                                                                                                                          (1 - exp(-(x[0, 0]**2 + x[1, 0]**2)/(2*sigma_alpha**2)))*(w_l*(1 - exp(-(x[0, 0]**2 + x[1, 0]**2)/(2*sigma_gamma**2))) + w_u*exp(-(x[0, 0]**2 + x[1, 0]**2)/(2*sigma_gamma**2)))*tanh(alpha*sqrt(x[0, 0]**2 + x[1, 0]**2))**2*x[0, 0]*x[1, 0]/(x[0, 0]**2 + x[1, 0]**2)],\n",
       "[                                                                                                                                                                                                         (1 - exp(-(x[0, 0]**2 + x[1, 0]**2)/(2*sigma_alpha**2)))*(w_l*(1 - exp(-(x[0, 0]**2 + x[1, 0]**2)/(2*sigma_gamma**2))) + w_u*exp(-(x[0, 0]**2 + x[1, 0]**2)/(2*sigma_gamma**2)))*tanh(alpha*sqrt(x[0, 0]**2 + x[1, 0]**2))**2*x[0, 0]*x[1, 0]/(x[0, 0]**2 + x[1, 0]**2), (w_l*(1 - exp(-(x[0, 0]**2 + x[1, 0]**2)/(2*sigma_gamma**2))) + w_u*exp(-(x[0, 0]**2 + x[1, 0]**2)/(2*sigma_gamma**2)))*((1 - exp(2*alpha*sqrt(x[0, 0]**2 + x[1, 0]**2)))**2*(1 - exp(-(x[0, 0]**2 + x[1, 0]**2)/(2*sigma_alpha**2)))*x[1, 0]**2 + (epsilon + exp(-(x[0, 0]**2 + x[1, 0]**2)/(2*sigma_alpha**2)))*(exp(2*alpha*sqrt(x[0, 0]**2 + x[1, 0]**2)) + 1)**2*(x[0, 0]**2 + x[1, 0]**2))/((exp(2*alpha*sqrt(x[0, 0]**2 + x[1, 0]**2)) + 1)**2*(x[0, 0]**2 + x[1, 0]**2))]])"
      ]
     },
     "execution_count": 74,
     "metadata": {},
     "output_type": "execute_result"
    }
   ],
   "source": [
    "### 慣性行列 ###\n",
    "\n",
    "sigma_alpha, sigma_gamma, w_u, w_l, alpha, epsilon = sy.symbols('sigma_alpha, sigma_gamma, w_u, w_l, alpha, epsilon')\n",
    "\n",
    "\n",
    "alpha_x = sy.exp(-((x_norm**2) / (2 * sigma_alpha**2)))\n",
    "gamma_x = sy.exp(-((x_norm**2) / (2 * sigma_gamma**2)))\n",
    "w_x = gamma_x * w_u + (1 - gamma_x) * w_l\n",
    "nabla_x_phi = (1 - sy.exp(-2 * alpha * x_norm)) / (1 + sy.exp(-2 * alpha * x_norm)) * x_hat\n",
    "\n",
    "\n",
    "M = w_x  * ((1 - alpha_x) * nabla_x_phi * nabla_x_phi.T + (alpha_x + epsilon) * sy.eye(N))\n",
    "\n",
    "M = sy.simplify(M)\n",
    "M"
   ]
  },
  {
   "cell_type": "code",
   "execution_count": 75,
   "metadata": {},
   "outputs": [
    {
     "name": "stdout",
     "output_type": "stream",
     "text": [
      "i =  0\n",
      "i =  1\n",
      "i =  1\n",
      "(2, 2)\n"
     ]
    }
   ],
   "source": [
    "# 曲率校xi_Mの前半を計算\n",
    "partialx_m_dx = []\n",
    "for i in range(N):\n",
    "    print(\"i = \", i)\n",
    "    partialx_m_dx.append(M[:, i:i+1].jacobian(x) * x_dot)\n",
    "# partialx_m1 = M[:, 0:1].jacobian(x)\n",
    "# partialx_m2 = M[:, 1:2].jacobian(x)\n",
    "# partialx_m3 = M[:, 2:3].jacobian(x)\n",
    "\n",
    "# print(sy.simplify(partialx_m1))\n",
    "\n",
    "\n",
    "xi_M_before_ = partialx_m_dx[0]\n",
    "for i in range(1, N):\n",
    "    print(\"i = \", i)\n",
    "    xi_M_before_ = xi_M_before_.row_join(partialx_m_dx[i])\n",
    "# xi_M_before_before = partialx_m1_dx.row_join(partialx_m2_dx)\n",
    "# xi_M_before_before = xi_M_before_before.row_join(partialx_m3_dx)\n",
    "\n",
    "#xi_M_before_ = sy.simplify(xi_M_before_)\n",
    "print(xi_M_before_.shape)\n",
    "\n",
    "xi_M_before = xi_M_before_ * x_dot\n",
    "\n",
    "# #print(xi_M_before)\n",
    "\n",
    "# # 曲率校xi_Mの後半を計算\n",
    "xi_M_after_ = x_dot.T * M * x_dot\n",
    "xi_M_after = -1/2* (xi_M_after_.jacobian(x)).T #　sympyにはナブラあるかも？\n",
    "\n",
    "# # 合体\n",
    "xi_M = xi_M_before + xi_M_after\n",
    "xi_M = sy.simplify(xi_M)  # Elisじゃ無理\n",
    "# print(xi_M)"
   ]
  },
  {
   "cell_type": "code",
   "execution_count": 77,
   "metadata": {},
   "outputs": [],
   "source": [
    "def gen(func, name):\n",
    "    [(c_name, c_code), (h_name, c_header)] = codegen(\n",
    "        name_expr=(name, func),\n",
    "        language=\"C\",\n",
    "        project= name + \"project\",\n",
    "        to_files=False\n",
    "    )\n",
    "\n",
    "    f = open(c_name, 'w')\n",
    "    f.write(c_code)\n",
    "    f.close()\n",
    "\n",
    "    f = open(h_name, 'w')\n",
    "    f.write(c_header)\n",
    "    f.close()\n",
    "\n",
    "\n",
    "gen(xi_M, \"rmp2_attractor_xi\")"
   ]
  }
 ],
 "metadata": {
  "interpreter": {
   "hash": "916dbcbb3f70747c44a77c7bcd40155683ae19c65e1c03b4aa3499c5328201f1"
  },
  "kernelspec": {
   "display_name": "Python 3.8.10 64-bit",
   "language": "python",
   "name": "python3"
  },
  "language_info": {
   "codemirror_mode": {
    "name": "ipython",
    "version": 3
   },
   "file_extension": ".py",
   "mimetype": "text/x-python",
   "name": "python",
   "nbconvert_exporter": "python",
   "pygments_lexer": "ipython3",
   "version": "3.9.7"
  },
  "orig_nbformat": 4
 },
 "nbformat": 4,
 "nbformat_minor": 2
}
